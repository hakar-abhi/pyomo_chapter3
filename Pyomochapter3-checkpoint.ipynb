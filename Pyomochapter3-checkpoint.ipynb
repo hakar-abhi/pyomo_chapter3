{
 "cells": [
  {
   "cell_type": "code",
   "execution_count": null,
   "id": "a181327a-0ffe-41fc-91d2-5327974b3e54",
   "metadata": {},
   "outputs": [],
   "source": [
    "# A Pyomo model is populated with modeling components\n",
    "# Modeling components in Pyomo are:\n",
    "# Model data that create an instance of model\n",
    "# Model's structure like objective function & model's constraints\n"
   ]
  },
  {
   "cell_type": "code",
   "execution_count": null,
   "id": "68d17d49-079c-408a-a964-44e8ca680eb2",
   "metadata": {},
   "outputs": [],
   "source": [
    "# In core exist the variables\n",
    "# Variables are numeric values determined during optimization\n",
    "# Pyomo variables managed with Var() class.\n",
    "# Variables define search space for optimisation\n"
   ]
  },
  {
   "cell_type": "code",
   "execution_count": 1,
   "id": "eee48387-4576-4ef5-8b8b-a01c4a287743",
   "metadata": {},
   "outputs": [],
   "source": [
    "import pyomo.environ as pe"
   ]
  },
  {
   "cell_type": "markdown",
   "id": "fdb674f2-d8c2-4d3e-a49a-4d8ab12c4141",
   "metadata": {},
   "source": [
    "# Ways of Variable Declaration"
   ]
  },
  {
   "cell_type": "code",
   "execution_count": 5,
   "id": "e3b5b3d9-0fbe-471d-a768-b22877f4d8fa",
   "metadata": {},
   "outputs": [],
   "source": [
    "model = pe.ConcreteModel()"
   ]
  },
  {
   "cell_type": "code",
   "execution_count": 20,
   "id": "0d52eea2-db69-4683-94e1-7734106745b4",
   "metadata": {},
   "outputs": [],
   "source": [
    "# Simple variable declaration\n",
    "model.x = pe.Var()"
   ]
  },
  {
   "cell_type": "code",
   "execution_count": 21,
   "id": "4a0f2786-6f7f-4ec7-8bc7-259b1f588265",
   "metadata": {},
   "outputs": [],
   "source": [
    "B = [1.5, 2.5, 3.5]\n",
    "model.u = pe.Var(B)"
   ]
  },
  {
   "cell_type": "code",
   "execution_count": 22,
   "id": "38819780-dcb8-4897-b3d4-088c93a2260a",
   "metadata": {},
   "outputs": [
    {
     "data": {
      "text/plain": [
       "<pyomo.core.base.var.IndexedVar at 0x1c390e7ab70>"
      ]
     },
     "execution_count": 22,
     "metadata": {},
     "output_type": "execute_result"
    }
   ],
   "source": [
    "model.u"
   ]
  },
  {
   "cell_type": "code",
   "execution_count": 23,
   "id": "057e8413-7915-4ebb-b7b0-11e5382c2ff6",
   "metadata": {},
   "outputs": [],
   "source": [
    "model.C = pe.Set(initialize = [1,2,3])\n",
    "model.t = pe.Var(B, model.C) # 2 dimensional array variable with B and model.C's values as indexes"
   ]
  },
  {
   "cell_type": "code",
   "execution_count": 29,
   "id": "19abca9e-1de6-4d33-bada-89760ef92877",
   "metadata": {},
   "outputs": [],
   "source": [
    "model.t[1.5,1] = 4\n",
    "model.t[1.5,2] = 8\n",
    "model.t[1.5,3] = 12\n",
    "model.t[2.5,1] = 5\n",
    "model.t[2.5,2] = 10\n",
    "model.t[2.5,3] = 15\n",
    "model.t[3.5,1] = 6\n",
    "model.t[3.5,2] = 12\n",
    "model.t[3.5,3] = 18"
   ]
  },
  {
   "cell_type": "code",
   "execution_count": 30,
   "id": "ddbb04a3-4c37-4735-9cf9-be15ce541db3",
   "metadata": {},
   "outputs": [
    {
     "name": "stdout",
     "output_type": "stream",
     "text": [
      "t[1.5, 1] = 4\n",
      "t[1.5, 2] = 8\n",
      "t[1.5, 3] = 12\n",
      "t[2.5, 1] = 5\n",
      "t[2.5, 2] = 10\n",
      "t[2.5, 3] = 15\n",
      "t[3.5, 1] = 6\n",
      "t[3.5, 2] = 12\n",
      "t[3.5, 3] = 18\n"
     ]
    }
   ],
   "source": [
    "for b in B:\n",
    "    for c in model.C:\n",
    "        print(f\"t[{b}, {c}] = {pe.value(model.t[b, c])}\")"
   ]
  },
  {
   "cell_type": "markdown",
   "id": "8b6af0bf-0d5d-430a-a18b-2f9e4af670e9",
   "metadata": {},
   "source": [
    "# Variable Domain Specification"
   ]
  },
  {
   "cell_type": "code",
   "execution_count": 6,
   "id": "3924af91-1249-46ae-ba52-a47cc3330232",
   "metadata": {},
   "outputs": [],
   "source": [
    "# one can use either initialize, domain or within as options\n",
    "model.A = pe.Set(initialize=[1,2,3])\n",
    "\n"
   ]
  },
  {
   "cell_type": "code",
   "execution_count": 32,
   "id": "ab6469ce-8743-4d1b-8951-48d565f14e6f",
   "metadata": {},
   "outputs": [],
   "source": [
    "model.y = pe.Var(within = model.A) # See values of variable y must lie within value limit of 1,2,3\n"
   ]
  },
  {
   "cell_type": "code",
   "execution_count": 42,
   "id": "48a36631-64c7-4f9e-beec-13de27d771a7",
   "metadata": {},
   "outputs": [
    {
     "name": "stdout",
     "output_type": "stream",
     "text": [
      "WARNING (W1001): Setting Var 'y' to a value `4` (int) not in domain A.\n",
      "    See also https://pyomo.readthedocs.io/en/stable/errors.html#w1001\n"
     ]
    }
   ],
   "source": [
    "model.y = 4  # setting y's value to 4 raises a warning"
   ]
  },
  {
   "cell_type": "code",
   "execution_count": 44,
   "id": "b39eb5ab-000b-469a-9633-f51a7e5a304e",
   "metadata": {},
   "outputs": [],
   "source": [
    "model.r = pe.Var(domain=pe.Reals) # regular variable"
   ]
  },
  {
   "cell_type": "code",
   "execution_count": 45,
   "id": "72439d75-ac48-40e7-af76-0dfc42bb6b87",
   "metadata": {},
   "outputs": [
    {
     "data": {
      "text/plain": [
       "<pyomo.core.base.var.ScalarVar at 0x1c3937e6f20>"
      ]
     },
     "execution_count": 45,
     "metadata": {},
     "output_type": "execute_result"
    }
   ],
   "source": [
    "model.r"
   ]
  },
  {
   "cell_type": "code",
   "execution_count": null,
   "id": "935c0adb-4d85-4106-afec-746e451bc8b6",
   "metadata": {},
   "outputs": [],
   "source": [
    "# If the domain is not specified, the defalt is set to Any*"
   ]
  },
  {
   "cell_type": "markdown",
   "id": "96807c93-0f77-49ba-8b20-739df7620d4a",
   "metadata": {},
   "source": [
    "# Variable bound specification"
   ]
  },
  {
   "cell_type": "code",
   "execution_count": 46,
   "id": "5fd1911c-5dda-4481-9158-1bda3df46c6a",
   "metadata": {},
   "outputs": [],
   "source": [
    "# Defining variable bounds specifically\n",
    "model.a = pe.Var(bounds = (0.0,None))\n",
    "\n",
    "lower = {1:2, 2:4, 3:6}\n",
    "upper = {1:3, 2:4, 3:7}\n",
    "\n",
    "def f(model, i):\n",
    "    return (lower[i], upper[i])\n",
    "model.b = pe.Var(model.A, bounds=f)"
   ]
  },
  {
   "cell_type": "code",
   "execution_count": 52,
   "id": "dac1c8a4-24b6-47be-913b-4645d4595d1a",
   "metadata": {},
   "outputs": [
    {
     "data": {
      "text/plain": [
       "3"
      ]
     },
     "execution_count": 52,
     "metadata": {},
     "output_type": "execute_result"
    }
   ],
   "source": [
    "# bounds of variables can be checked\n",
    "# if variables are regular ie. defined on a continuum like reals, integers etc\n",
    "# their bounds can't be checked\n",
    "# bounds can be checked for discrete and continuous variables\n"
   ]
  },
  {
   "cell_type": "markdown",
   "id": "d339ba2d-b8b7-45ef-b4c7-360fa337e0c2",
   "metadata": {},
   "source": [
    "# Variable Bound Checking"
   ]
  },
  {
   "cell_type": "code",
   "execution_count": 61,
   "id": "b1ad1101-4273-4201-bc25-5ad127593772",
   "metadata": {},
   "outputs": [
    {
     "name": "stdout",
     "output_type": "stream",
     "text": [
      "Upper bound for variable b in index 1 is: 3 & Lower bound for variable b in index 1 is: 2\n",
      "Upper bound for variable b in index 2 is: 4 & Lower bound for variable b in index 2 is: 4\n",
      "Upper bound for variable b in index 3 is: 7 & Lower bound for variable b in index 3 is: 6\n"
     ]
    }
   ],
   "source": [
    "# model.b is a variable that is indexed with elements of variable model.A\n",
    "# So we need to check specific bounds of each index\n",
    "for i in model.A:\n",
    "    print(f\"Upper bound for variable b in index {i} is: {model.b[i].ub} & Lower bound for variable b in index {i} is: {model.b[i].lb}\")\n",
    "   "
   ]
  },
  {
   "cell_type": "markdown",
   "id": "6142b30a-cbf4-468e-887b-b4603f1cba54",
   "metadata": {},
   "source": [
    "# Variable Initiaization"
   ]
  },
  {
   "cell_type": "code",
   "execution_count": 20,
   "id": "5b6a65e9-eaaf-49fd-82af-605ced30b320",
   "metadata": {},
   "outputs": [],
   "source": [
    "# Variables values are typically determined post-optimization\n",
    "# but variable value initialization can be done\n",
    "\n",
    "model = pe.ConcreteModel()\n",
    "model.za = pe.Var(initialize = 9, within = pe.NonNegativeReals)\n"
   ]
  },
  {
   "cell_type": "code",
   "execution_count": 21,
   "id": "19122fab-cfcb-4a9c-aa44-2860bc824144",
   "metadata": {},
   "outputs": [],
   "source": [
    "model.A = pe.Set(initialize=[1,2,3])"
   ]
  },
  {
   "cell_type": "code",
   "execution_count": 22,
   "id": "2cba9be8-225c-4e65-b10a-0f55a44bb086",
   "metadata": {},
   "outputs": [],
   "source": [
    "model.zb = pe.Var(model.A, initialize={1:1, 2:4, 3:9})"
   ]
  },
  {
   "cell_type": "code",
   "execution_count": 23,
   "id": "9434fcec-1034-49f8-b554-2715ff61bc0e",
   "metadata": {},
   "outputs": [
    {
     "data": {
      "text/plain": [
       "4"
      ]
     },
     "execution_count": 23,
     "metadata": {},
     "output_type": "execute_result"
    }
   ],
   "source": [
    "pe.value(model.zb[2])"
   ]
  },
  {
   "cell_type": "code",
   "execution_count": 24,
   "id": "b90adedf-f958-431f-8fb0-cb4d4d0d1513",
   "metadata": {},
   "outputs": [],
   "source": [
    "model.zc = pe.Var(model.A, initialize=2)"
   ]
  },
  {
   "cell_type": "code",
   "execution_count": 25,
   "id": "3e07e82b-6f95-433c-9db9-12bdd7d4b9bd",
   "metadata": {},
   "outputs": [
    {
     "data": {
      "text/plain": [
       "2"
      ]
     },
     "execution_count": 25,
     "metadata": {},
     "output_type": "execute_result"
    }
   ],
   "source": [
    "pe.value(model.zc[2])"
   ]
  },
  {
   "cell_type": "code",
   "execution_count": 26,
   "id": "81fa1363-b0d1-49cf-9970-b91d05963f71",
   "metadata": {},
   "outputs": [
    {
     "data": {
      "text/plain": [
       "2"
      ]
     },
     "execution_count": 26,
     "metadata": {},
     "output_type": "execute_result"
    }
   ],
   "source": [
    "pe.value(model.zc[3])"
   ]
  },
  {
   "cell_type": "code",
   "execution_count": 30,
   "id": "80e79f38-a577-4d16-9f83-070e9408c8c2",
   "metadata": {},
   "outputs": [
    {
     "name": "stdout",
     "output_type": "stream",
     "text": [
      "WARNING: Implicitly replacing the Component attribute m (type=<class\n",
      "'pyomo.core.base.var.IndexedVar'>) on block unknown with a new Component\n",
      "(type=<class 'pyomo.core.base.var.IndexedVar'>). This is usually indicative of\n",
      "a modelling error. To avoid this warning, use block.del_component() and\n",
      "block.add_component().\n",
      "1\n",
      "1\n",
      "2\n",
      "3\n"
     ]
    }
   ],
   "source": [
    "def g(model,i): # i is indices as argument\n",
    "    print(i)\n",
    "    return 3*i\n",
    "model.m = pe.Var(model.A, initialize=g)"
   ]
  },
  {
   "cell_type": "code",
   "execution_count": 35,
   "id": "cd59c345-50de-4dc3-b08c-85290555caa7",
   "metadata": {},
   "outputs": [
    {
     "name": "stdout",
     "output_type": "stream",
     "text": [
      "3\n"
     ]
    }
   ],
   "source": [
    "print(pe.value(model.m[1]))"
   ]
  },
  {
   "cell_type": "code",
   "execution_count": 42,
   "id": "9fb1464c-c03e-49f7-bc0a-4144ea51aa14",
   "metadata": {},
   "outputs": [
    {
     "name": "stdout",
     "output_type": "stream",
     "text": [
      "8.5\n"
     ]
    }
   ],
   "source": [
    "print(float(model.za.value))"
   ]
  },
  {
   "cell_type": "code",
   "execution_count": 45,
   "id": "c5721c59-dacd-455e-bcb1-78f191ddfa92",
   "metadata": {},
   "outputs": [
    {
     "name": "stdout",
     "output_type": "stream",
     "text": [
      "3\n"
     ]
    }
   ],
   "source": [
    "print(len(model.zc)) # number of variables in an array"
   ]
  },
  {
   "cell_type": "code",
   "execution_count": 46,
   "id": "d7f522d6-c806-4803-ab15-bacc963f300b",
   "metadata": {},
   "outputs": [
    {
     "name": "stdout",
     "output_type": "stream",
     "text": [
      "False\n"
     ]
    }
   ],
   "source": [
    "print(model.zb[2].fixed) # model.zb is an array, not a singleton variable"
   ]
  },
  {
   "cell_type": "markdown",
   "id": "6ae8a77b-4aa9-4ff9-9aae-aa28db798d19",
   "metadata": {},
   "source": [
    "# Objectives in Pyomo"
   ]
  },
  {
   "cell_type": "code",
   "execution_count": null,
   "id": "5257fcc5-a46f-4151-b716-367e8f4a6a40",
   "metadata": {},
   "outputs": [],
   "source": [
    "# Objective is a function involving data and variables that are either minimized\n",
    "# or maximized by a solver.\n",
    "# The solver searches for values of variables that result in the best possible value for\n",
    "# the objective function\n",
    "# Constraints put restrictions on the value that variables can take.\n",
    "# Objective function determines how the variables attain these values\n"
   ]
  },
  {
   "cell_type": "markdown",
   "id": "32b8fa2f-fa86-4691-8a3b-7e882049365d",
   "metadata": {},
   "source": [
    "# Objective Declaration"
   ]
  },
  {
   "cell_type": "code",
   "execution_count": 47,
   "id": "56191b0c-23c1-475e-bcdb-5ab4e248ca0b",
   "metadata": {},
   "outputs": [],
   "source": [
    "model.a = pe.Objective()"
   ]
  },
  {
   "cell_type": "code",
   "execution_count": 48,
   "id": "20fa12ae-7afc-496e-b6ff-f67c6cb8acb0",
   "metadata": {},
   "outputs": [],
   "source": [
    "# for multiobjective problems\n",
    "model.b = pe.Objective()\n"
   ]
  },
  {
   "cell_type": "code",
   "execution_count": 49,
   "id": "cb24e741-aeae-405e-ab56-11065604237f",
   "metadata": {},
   "outputs": [],
   "source": [
    "model.c = pe.Objective([1,2,3])"
   ]
  },
  {
   "cell_type": "code",
   "execution_count": 54,
   "id": "98d5fa12-57c9-4e3d-86e3-b74836868339",
   "metadata": {},
   "outputs": [
    {
     "name": "stdout",
     "output_type": "stream",
     "text": [
      "WARNING: Implicitly replacing the Component attribute x1 (type=<class\n",
      "'pyomo.core.base.var.ScalarVar'>) on block unknown with a new Component\n",
      "(type=<class 'pyomo.core.base.var.AbstractScalarVar'>). This is usually\n",
      "indicative of a modelling error. To avoid this warning, use\n",
      "block.del_component() and block.add_component().\n",
      "WARNING: Implicitly replacing the Component attribute x2 (type=<class\n",
      "'pyomo.core.base.var.ScalarVar'>) on block unknown with a new Component\n",
      "(type=<class 'pyomo.core.base.var.AbstractScalarVar'>). This is usually\n",
      "indicative of a modelling error. To avoid this warning, use\n",
      "block.del_component() and block.add_component().\n"
     ]
    }
   ],
   "source": [
    "model.x1= pe.Var()\n",
    "model.x2= pe.Var()"
   ]
  },
  {
   "cell_type": "code",
   "execution_count": 53,
   "id": "5a7b5ee1-93bf-4835-971e-7189e59ba65d",
   "metadata": {},
   "outputs": [
    {
     "name": "stdout",
     "output_type": "stream",
     "text": [
      "WARNING: Implicitly replacing the Component attribute d (type=<class\n",
      "'pyomo.core.base.objective.ScalarObjective'>) on block unknown with a new\n",
      "Component (type=<class 'pyomo.core.base.objective.ScalarObjective'>). This is\n",
      "usually indicative of a modelling error. To avoid this warning, use\n",
      "block.del_component() and block.add_component().\n"
     ]
    }
   ],
   "source": [
    "model.d = pe.Objective(expr = model.x1 + model.x2, sense=pe.maximize)"
   ]
  },
  {
   "cell_type": "markdown",
   "id": "0283fd8c-cf0f-49aa-8aac-f3d3282473a6",
   "metadata": {},
   "source": [
    "# function with rules to specify Objective Function"
   ]
  },
  {
   "cell_type": "code",
   "execution_count": 55,
   "id": "d8877c63-5039-426c-a561-46d961c2a2d4",
   "metadata": {},
   "outputs": [],
   "source": [
    "def TheObjective(model):\n",
    "    return model.x1 + 2 * model.x2\n",
    "model.g = pe.Objective(rule=TheObjective)"
   ]
  },
  {
   "cell_type": "code",
   "execution_count": 57,
   "id": "5dfd58cd-2feb-4e16-8779-afc1438ed640",
   "metadata": {},
   "outputs": [],
   "source": [
    "def NewObjective(model,i):\n",
    "    return i*model.x1 + model.x2\n",
    "model.h = pe.Objective([1,2,3,4],rule=NewObjective)"
   ]
  },
  {
   "cell_type": "code",
   "execution_count": 59,
   "id": "5984aeb2-e11d-4cae-8300-501f3aef9d1f",
   "metadata": {},
   "outputs": [
    {
     "name": "stdout",
     "output_type": "stream",
     "text": [
      "4\n"
     ]
    }
   ],
   "source": [
    "print(len(model.h))"
   ]
  },
  {
   "cell_type": "markdown",
   "id": "d73ca3db-728b-49fe-8779-075e6f5aff03",
   "metadata": {},
   "source": [
    "# Extractinf model's each objective expressions"
   ]
  },
  {
   "cell_type": "code",
   "execution_count": 64,
   "id": "4e89b42a-2cef-4759-92f8-bb21e9e58ebb",
   "metadata": {},
   "outputs": [
    {
     "name": "stdout",
     "output_type": "stream",
     "text": [
      "2*x1 + x2\n"
     ]
    }
   ],
   "source": [
    "print(model.h[2].expr) # with .expr attribute of model"
   ]
  },
  {
   "cell_type": "code",
   "execution_count": 65,
   "id": "8823ee64-1af4-4e79-8e55-75afa51bb39f",
   "metadata": {},
   "outputs": [
    {
     "name": "stdout",
     "output_type": "stream",
     "text": [
      "1 Set Declarations\n",
      "    A : Size=1, Index=None, Ordered=Insertion\n",
      "        Key  : Dimen : Domain : Size : Members\n",
      "        None :     1 :    Any :    3 : {1, 2, 3}\n",
      "\n",
      "6 Var Declarations\n",
      "    m : Size=3, Index=A\n",
      "        Key : Lower : Value : Upper : Fixed : Stale : Domain\n",
      "          1 :  None :     3 :  None : False : False :  Reals\n",
      "          2 :  None :     6 :  None : False : False :  Reals\n",
      "          3 :  None :     9 :  None : False : False :  Reals\n",
      "    x1 : Size=1, Index=None\n",
      "        Key  : Lower : Value : Upper : Fixed : Stale : Domain\n",
      "        None :  None :  None :  None : False :  True :  Reals\n",
      "    x2 : Size=1, Index=None\n",
      "        Key  : Lower : Value : Upper : Fixed : Stale : Domain\n",
      "        None :  None :  None :  None : False :  True :  Reals\n",
      "    za : Size=1, Index=None\n",
      "        Key  : Lower : Value : Upper : Fixed : Stale : Domain\n",
      "        None :     0 :   8.5 :  None : False : False : NonNegativeReals\n",
      "    zb : Size=3, Index=A\n",
      "        Key : Lower : Value : Upper : Fixed : Stale : Domain\n",
      "          1 :  None :     1 :  None : False : False :  Reals\n",
      "          2 :  None :     4 :  None : False : False :  Reals\n",
      "          3 :  None :     9 :  None : False : False :  Reals\n",
      "    zc : Size=3, Index=A\n",
      "        Key : Lower : Value : Upper : Fixed : Stale : Domain\n",
      "          1 :  None :     2 :  None : False : False :  Reals\n",
      "          2 :  None :     2 :  None : False : False :  Reals\n",
      "          3 :  None :     2 :  None : False : False :  Reals\n",
      "\n",
      "6 Objective Declarations\n",
      "    a : Size=0, Index=None, Active=True\n",
      "        Key : Active : Sense : Expression\n",
      "    b : Size=0, Index=None, Active=True\n",
      "        Key : Active : Sense : Expression\n",
      "    c : Size=0, Index={1, 2, 3}, Active=True\n",
      "        Key : Active : Sense : Expression\n",
      "    d : Size=1, Index=None, Active=True\n",
      "        Key  : Active : Sense    : Expression\n",
      "        None :   True : maximize : x1 + x2\n",
      "    g : Size=1, Index=None, Active=True\n",
      "        Key  : Active : Sense    : Expression\n",
      "        None :   True : minimize : x1 + 2*x2\n",
      "    h : Size=4, Index={1, 2, 3, 4}, Active=True\n",
      "        Key : Active : Sense    : Expression\n",
      "          1 :   True : minimize : x1 + x2\n",
      "          2 :   True : minimize : 2*x1 + x2\n",
      "          3 :   True : minimize : 3*x1 + x2\n",
      "          4 :   True : minimize : 4*x1 + x2\n",
      "\n",
      "13 Declarations: za A zb zc m a b c d x1 x2 g h\n"
     ]
    }
   ],
   "source": [
    "model.pprint()"
   ]
  },
  {
   "cell_type": "code",
   "execution_count": null,
   "id": "1c93536d-8efd-46d3-839c-6e75dbf586d8",
   "metadata": {},
   "outputs": [],
   "source": [
    "# Always better to construct models' objective with rules\n"
   ]
  },
  {
   "cell_type": "code",
   "execution_count": 70,
   "id": "d827e5ae-124f-4571-b3da-5d3d4a7b935a",
   "metadata": {},
   "outputs": [
    {
     "name": "stdout",
     "output_type": "stream",
     "text": [
      "WARNING: Implicitly replacing the Component attribute m (type=<class\n",
      "'pyomo.core.base.objective.ScalarObjective'>) on block unknown with a new\n",
      "Component (type=<class 'pyomo.core.base.objective.ScalarObjective'>). This is\n",
      "usually indicative of a modelling error. To avoid this warning, use\n",
      "block.del_component() and block.add_component().\n"
     ]
    }
   ],
   "source": [
    "def m_rule(model):\n",
    "    expr = model.x1\n",
    "    expr += 2*model.x2\n",
    "    return expr\n",
    "model.m = pe.Objective(rule=m_rule)"
   ]
  },
  {
   "cell_type": "code",
   "execution_count": 71,
   "id": "133d2dd4-23ba-40b4-9404-48175d0f5a16",
   "metadata": {},
   "outputs": [
    {
     "name": "stdout",
     "output_type": "stream",
     "text": [
      "1 Set Declarations\n",
      "    A : Size=1, Index=None, Ordered=Insertion\n",
      "        Key  : Dimen : Domain : Size : Members\n",
      "        None :     1 :    Any :    3 : {1, 2, 3}\n",
      "\n",
      "5 Var Declarations\n",
      "    x1 : Size=1, Index=None\n",
      "        Key  : Lower : Value : Upper : Fixed : Stale : Domain\n",
      "        None :  None :  None :  None : False :  True :  Reals\n",
      "    x2 : Size=1, Index=None\n",
      "        Key  : Lower : Value : Upper : Fixed : Stale : Domain\n",
      "        None :  None :  None :  None : False :  True :  Reals\n",
      "    za : Size=1, Index=None\n",
      "        Key  : Lower : Value : Upper : Fixed : Stale : Domain\n",
      "        None :     0 :   8.5 :  None : False : False : NonNegativeReals\n",
      "    zb : Size=3, Index=A\n",
      "        Key : Lower : Value : Upper : Fixed : Stale : Domain\n",
      "          1 :  None :     1 :  None : False : False :  Reals\n",
      "          2 :  None :     4 :  None : False : False :  Reals\n",
      "          3 :  None :     9 :  None : False : False :  Reals\n",
      "    zc : Size=3, Index=A\n",
      "        Key : Lower : Value : Upper : Fixed : Stale : Domain\n",
      "          1 :  None :     2 :  None : False : False :  Reals\n",
      "          2 :  None :     2 :  None : False : False :  Reals\n",
      "          3 :  None :     2 :  None : False : False :  Reals\n",
      "\n",
      "7 Objective Declarations\n",
      "    a : Size=0, Index=None, Active=True\n",
      "        Key : Active : Sense : Expression\n",
      "    b : Size=0, Index=None, Active=True\n",
      "        Key : Active : Sense : Expression\n",
      "    c : Size=0, Index={1, 2, 3}, Active=True\n",
      "        Key : Active : Sense : Expression\n",
      "    d : Size=1, Index=None, Active=True\n",
      "        Key  : Active : Sense    : Expression\n",
      "        None :   True : maximize : x1 + x2\n",
      "    g : Size=1, Index=None, Active=True\n",
      "        Key  : Active : Sense    : Expression\n",
      "        None :   True : minimize : x1 + 2*x2\n",
      "    h : Size=4, Index={1, 2, 3, 4}, Active=True\n",
      "        Key : Active : Sense    : Expression\n",
      "          1 :   True : minimize : x1 + x2\n",
      "          2 :   True : minimize : 2*x1 + x2\n",
      "          3 :   True : minimize : 3*x1 + x2\n",
      "          4 :   True : minimize : 4*x1 + x2\n",
      "    m : Size=1, Index=None, Active=True\n",
      "        Key  : Active : Sense    : Expression\n",
      "        None :   True : minimize : x1 + 2*x2\n",
      "\n",
      "13 Declarations: za A zb zc a b c d x1 x2 g h m\n"
     ]
    }
   ],
   "source": [
    "model.pprint()"
   ]
  },
  {
   "cell_type": "code",
   "execution_count": 77,
   "id": "2ffdcd42-3dc2-4270-b2b4-5d1f4014db84",
   "metadata": {},
   "outputs": [
    {
     "name": "stdout",
     "output_type": "stream",
     "text": [
      "WARNING: Implicitly replacing the Component attribute n (type=<class\n",
      "'pyomo.core.base.objective.ScalarObjective'>) on block unknown with a new\n",
      "Component (type=<class 'pyomo.core.base.objective.ScalarObjective'>). This is\n",
      "usually indicative of a modelling error. To avoid this warning, use\n",
      "block.del_component() and block.add_component().\n"
     ]
    }
   ],
   "source": [
    "# Objectives can also be constructed using conditionals \n",
    "# like p =0.3, if p>0.3 \n",
    "p = 0.1\n",
    "def n_rule(model):\n",
    "    if p > 0.2:\n",
    "        return model.x1+2*model.x2\n",
    "    else:\n",
    "        return model.x1-model.x2\n",
    "    \n",
    "model.n = pe.Objective(rule=n_rule)"
   ]
  },
  {
   "cell_type": "code",
   "execution_count": 78,
   "id": "3bd19695-fb82-4686-a7ba-801a94814fa7",
   "metadata": {},
   "outputs": [
    {
     "name": "stdout",
     "output_type": "stream",
     "text": [
      "1 Set Declarations\n",
      "    A : Size=1, Index=None, Ordered=Insertion\n",
      "        Key  : Dimen : Domain : Size : Members\n",
      "        None :     1 :    Any :    3 : {1, 2, 3}\n",
      "\n",
      "5 Var Declarations\n",
      "    x1 : Size=1, Index=None\n",
      "        Key  : Lower : Value : Upper : Fixed : Stale : Domain\n",
      "        None :  None :  None :  None : False :  True :  Reals\n",
      "    x2 : Size=1, Index=None\n",
      "        Key  : Lower : Value : Upper : Fixed : Stale : Domain\n",
      "        None :  None :  None :  None : False :  True :  Reals\n",
      "    za : Size=1, Index=None\n",
      "        Key  : Lower : Value : Upper : Fixed : Stale : Domain\n",
      "        None :     0 :   8.5 :  None : False : False : NonNegativeReals\n",
      "    zb : Size=3, Index=A\n",
      "        Key : Lower : Value : Upper : Fixed : Stale : Domain\n",
      "          1 :  None :     1 :  None : False : False :  Reals\n",
      "          2 :  None :     4 :  None : False : False :  Reals\n",
      "          3 :  None :     9 :  None : False : False :  Reals\n",
      "    zc : Size=3, Index=A\n",
      "        Key : Lower : Value : Upper : Fixed : Stale : Domain\n",
      "          1 :  None :     2 :  None : False : False :  Reals\n",
      "          2 :  None :     2 :  None : False : False :  Reals\n",
      "          3 :  None :     2 :  None : False : False :  Reals\n",
      "\n",
      "8 Objective Declarations\n",
      "    a : Size=0, Index=None, Active=True\n",
      "        Key : Active : Sense : Expression\n",
      "    b : Size=0, Index=None, Active=True\n",
      "        Key : Active : Sense : Expression\n",
      "    c : Size=0, Index={1, 2, 3}, Active=True\n",
      "        Key : Active : Sense : Expression\n",
      "    d : Size=1, Index=None, Active=True\n",
      "        Key  : Active : Sense    : Expression\n",
      "        None :   True : maximize : x1 + x2\n",
      "    g : Size=1, Index=None, Active=True\n",
      "        Key  : Active : Sense    : Expression\n",
      "        None :   True : minimize : x1 + 2*x2\n",
      "    h : Size=4, Index={1, 2, 3, 4}, Active=True\n",
      "        Key : Active : Sense    : Expression\n",
      "          1 :   True : minimize : x1 + x2\n",
      "          2 :   True : minimize : 2*x1 + x2\n",
      "          3 :   True : minimize : 3*x1 + x2\n",
      "          4 :   True : minimize : 4*x1 + x2\n",
      "    m : Size=1, Index=None, Active=True\n",
      "        Key  : Active : Sense    : Expression\n",
      "        None :   True : minimize : x1 + 2*x2\n",
      "    n : Size=1, Index=None, Active=True\n",
      "        Key  : Active : Sense    : Expression\n",
      "        None :   True : minimize : x1 - x2\n",
      "\n",
      "14 Declarations: za A zb zc a b c d x1 x2 g h m n\n"
     ]
    }
   ],
   "source": [
    "model.pprint()"
   ]
  },
  {
   "cell_type": "markdown",
   "id": "35849403-3c26-40f2-a77c-1bb1d6da3e06",
   "metadata": {},
   "source": [
    "# Constraints"
   ]
  },
  {
   "cell_type": "code",
   "execution_count": null,
   "id": "18e07006-715e-40ba-bc33-14b32d81d37a",
   "metadata": {},
   "outputs": [],
   "source": [
    "# we can put bounds to our variable using bound under pe.Var()\n",
    "# but that is not sufficient we want some general approach to constrain the value\n",
    "# The constraints generalize this idea by allowing for expressions that place\n",
    "# limits in many interacting variables simultaenously.\n",
    "# constraints contain equality, and inequality.\n",
    "# constraints can be more than one and are usually more than one, so must be indexed\n"
   ]
  },
  {
   "cell_type": "code",
   "execution_count": 79,
   "id": "4c616353-f5b0-4e2e-a976-c51281ce1446",
   "metadata": {},
   "outputs": [],
   "source": [
    "# Simplest non indexed constraint\n",
    "model.Diff = pe.Constraint(expr = model.x2 - model.x1 <= 7.5)"
   ]
  },
  {
   "cell_type": "code",
   "execution_count": 80,
   "id": "e996e82f-6cab-4dca-8a59-8ec335f7c400",
   "metadata": {},
   "outputs": [
    {
     "name": "stdout",
     "output_type": "stream",
     "text": [
      "WARNING: Implicitly replacing the Component attribute Diff (type=<class\n",
      "'pyomo.core.base.constraint.ScalarConstraint'>) on block unknown with a new\n",
      "Component (type=<class\n",
      "'pyomo.core.base.constraint.AbstractScalarConstraint'>). This is usually\n",
      "indicative of a modelling error. To avoid this warning, use\n",
      "block.del_component() and block.add_component().\n"
     ]
    }
   ],
   "source": [
    "# Costraint better be expressed by a rule function\n",
    "def Diff_rule(model):\n",
    "    return model.x2 - model.x1 <= 7.5\n",
    "model.Diff = pe.Constraint()\n",
    "    "
   ]
  },
  {
   "cell_type": "code",
   "execution_count": 81,
   "id": "b9172a2c-d70a-466e-a751-57f3e7523aa2",
   "metadata": {},
   "outputs": [],
   "source": [
    "# Indexed Constraints\n",
    "N = [1,2,3]\n",
    "a = {1:1,2:3.1,3:4.5}\n",
    "b = {1:1, 2:2.9,3:4.1}\n",
    "\n",
    "model.Y = pe.Var(N, within = pe.NonNegativeReals, initialize=0.0)\n"
   ]
  },
  {
   "cell_type": "code",
   "execution_count": 83,
   "id": "12aad66e-e494-404d-87a8-e41376d9095b",
   "metadata": {},
   "outputs": [
    {
     "name": "stdout",
     "output_type": "stream",
     "text": [
      "WARNING: Implicitly replacing the Component attribute CoverConstraint\n",
      "(type=<class 'pyomo.core.base.constraint.IndexedConstraint'>) on block unknown\n",
      "with a new Component (type=<class\n",
      "'pyomo.core.base.constraint.IndexedConstraint'>). This is usually indicative\n",
      "of a modelling error. To avoid this warning, use block.del_component() and\n",
      "block.add_component().\n"
     ]
    }
   ],
   "source": [
    "def CoverConstraint_rule(model,i):\n",
    "    return a[i] * model.Y[i] >= b[i]\n",
    "model.CoverConstraint = pe.Constraint(N,rule=CoverConstraint_rule)"
   ]
  },
  {
   "cell_type": "markdown",
   "id": "bc44a046-154f-4b39-ba11-ca7b1652ec8c",
   "metadata": {},
   "source": [
    "# Declarations of Constraints with Tuples"
   ]
  },
  {
   "cell_type": "code",
   "execution_count": 3,
   "id": "b9ed7240-3d76-429e-ad25-4b8e6e6f96f1",
   "metadata": {},
   "outputs": [],
   "source": [
    "import pyomo.environ as pe"
   ]
  },
  {
   "cell_type": "code",
   "execution_count": 6,
   "id": "127c272b-b216-44df-addc-348c7ed9584f",
   "metadata": {},
   "outputs": [],
   "source": [
    "N = [1,2,3]\n",
    "a = {1:1,2:3.1,3:4.5}\n",
    "b = {1:1,2:2.9,3:3.1}\n",
    "model = pe.ConcreteModel()\n",
    "\n",
    "model.y = pe.Var(N, within=pe.NonNegativeReals, initialize=0.0)\n",
    "# for inequality constraints we can do in tuple as (l,f,u) l <= f <= u\n"
   ]
  },
  {
   "cell_type": "code",
   "execution_count": 8,
   "id": "271a3d2c-30b6-4b2e-b0b0-8685a7dbf704",
   "metadata": {},
   "outputs": [
    {
     "name": "stdout",
     "output_type": "stream",
     "text": [
      "WARNING: Implicitly replacing the Component attribute Capacity_Con\n",
      "(type=<class 'pyomo.core.base.constraint.IndexedConstraint'>) on block unknown\n",
      "with a new Component (type=<class\n",
      "'pyomo.core.base.constraint.IndexedConstraint'>). This is usually indicative\n",
      "of a modelling error. To avoid this warning, use block.del_component() and\n",
      "block.add_component().\n"
     ]
    }
   ],
   "source": [
    "# for caonstraint inequality of 0.25 <= (aiyi/bi) <= 1.0 for i = {1,2,3}\n",
    "def CapacityIneq_rule(model,i):\n",
    "    return (0.25,(a[i]*model.y[i])/b[i],1.0)\n",
    "model.Capacity_Con = pe.Constraint(N,rule=CapacityIneq_rule)"
   ]
  },
  {
   "cell_type": "code",
   "execution_count": 9,
   "id": "628a33c2-a1cc-4e40-a453-04afcd98b2a6",
   "metadata": {},
   "outputs": [],
   "source": [
    "# for 0 <= aiyi - bi <= 0 \n",
    "def Constraint_rule(model,i):\n",
    "    return (0,a[i]*model.y[i]-b[i])\n",
    "model.Con = pe.Constraint(N,rule=Constraint_rule)"
   ]
  },
  {
   "cell_type": "code",
   "execution_count": 12,
   "id": "ad8ef396-1996-4db5-99e5-c1fedbb7f903",
   "metadata": {},
   "outputs": [
    {
     "name": "stdout",
     "output_type": "stream",
     "text": [
      "WARNING: Implicitly replacing the Component attribute StartTime (type=<class\n",
      "'pyomo.core.base.var.IndexedVar'>) on block unknown with a new Component\n",
      "(type=<class 'pyomo.core.base.var.IndexedVar'>). This is usually indicative of\n",
      "a modelling error. To avoid this warning, use block.del_component() and\n",
      "block.add_component().\n",
      "WARNING: Implicitly replacing the Component attribute cons (type=<class\n",
      "'pyomo.core.base.constraint.IndexedConstraint'>) on block unknown with a new\n",
      "Component (type=<class 'pyomo.core.base.constraint.IndexedConstraint'>). This\n",
      "is usually indicative of a modelling error. To avoid this warning, use\n",
      "block.del_component() and block.add_component().\n"
     ]
    }
   ],
   "source": [
    "# Skip constraints for certain conditions\n",
    "TimePeriods = [1,2,3,4,5]\n",
    "LastTimePeriod = 5\n",
    "model.StartTime = pe.Var(TimePeriods,initialize=0.0)\n",
    "\n",
    "def Pred_rule(model,t):\n",
    "    if t == LastTimePeriod:\n",
    "        return pe.Constraint.Skip\n",
    "    else:\n",
    "        return model.StartTime[t] <= model.StartTime[t+1]\n",
    "model.cons = pe.Constraint(TimePeriods,rule=Pred_rule)"
   ]
  },
  {
   "cell_type": "code",
   "execution_count": null,
   "id": "5ae3cabc-0500-4563-a656-409061546866",
   "metadata": {},
   "outputs": [],
   "source": [
    "# try except block is used to catch the exception raised in the program execution"
   ]
  }
 ],
 "metadata": {
  "kernelspec": {
   "display_name": "Python 3 (ipykernel)",
   "language": "python",
   "name": "python3"
  },
  "language_info": {
   "codemirror_mode": {
    "name": "ipython",
    "version": 3
   },
   "file_extension": ".py",
   "mimetype": "text/x-python",
   "name": "python",
   "nbconvert_exporter": "python",
   "pygments_lexer": "ipython3",
   "version": "3.12.2"
  }
 },
 "nbformat": 4,
 "nbformat_minor": 5
}
